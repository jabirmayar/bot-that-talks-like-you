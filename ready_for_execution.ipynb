{
  "nbformat": 4,
  "nbformat_minor": 0,
  "metadata": {
    "colab": {
      "name": "ready_for_execution.ipynb",
      "provenance": [],
      "collapsed_sections": [],
      "authorship_tag": "ABX9TyOXxdLEaCRqCSxoJ1hZej+U",
      "include_colab_link": true
    },
    "kernelspec": {
      "name": "python3",
      "display_name": "Python 3"
    }
  },
  "cells": [
    {
      "cell_type": "markdown",
      "metadata": {
        "id": "view-in-github",
        "colab_type": "text"
      },
      "source": [
        "<a href=\"https://colab.research.google.com/github/mohak1/bot-that-talks-like-you/blob/master/ready_for_execution.ipynb\" target=\"_parent\"><img src=\"https://colab.research.google.com/assets/colab-badge.svg\" alt=\"Open In Colab\"/></a>"
      ]
    },
    {
      "cell_type": "code",
      "metadata": {
        "id": "oMsbivj0m4yT",
        "colab_type": "code",
        "colab": {}
      },
      "source": [
        "#clone the repository\n",
        "!git clone https://github.com/jabirmayar/bot-that-talks-like-you.git"
      ],
      "execution_count": null,
      "outputs": []
    },
    {
      "cell_type": "code",
      "metadata": {
        "id": "sbM_qJT32qBh",
        "colab_type": "code",
        "colab": {}
      },
      "source": [
        "#upload the .txt files of your chat backups in your google drive and update the command \n",
        "\n",
        "#copying the text files from drive to whatsapp_chats folder in the colab notebook\n",
        "!cp -a /content/drive/My\\ Drive/chatbot/chats/. /content/bot-that-talks-like-you/whatsapp_chats/"
      ],
      "execution_count": null,
      "outputs": []
    },
    {
      "cell_type": "code",
      "metadata": {
        "id": "m-8aPTLH7pzD",
        "colab_type": "code",
        "colab": {}
      },
      "source": [
        "#update path variables in runner_code.py and talk.py\n",
        "#/content/bot-that-talks-like-you"
      ],
      "execution_count": null,
      "outputs": []
    },
    {
      "cell_type": "code",
      "metadata": {
        "id": "Id2uNaVm26E9",
        "colab_type": "code",
        "colab": {}
      },
      "source": [
        "#set the torch version to 1.0.0 to avoid warnings\n",
        "!pip install torch==1.4.0"
      ],
      "execution_count": null,
      "outputs": []
    },
    {
      "cell_type": "code",
      "metadata": {
        "id": "GpvWXpL9nkKU",
        "colab_type": "code",
        "colab": {}
      },
      "source": [
        "#process the files and start the training\n",
        "!python /content/bot-that-talks-like-you/code_files/runner_code.py"
      ],
      "execution_count": null,
      "outputs": []
    },
    {
      "cell_type": "code",
      "metadata": {
        "id": "quazhW-G2gps",
        "colab_type": "code",
        "colab": {}
      },
      "source": [
        "#start chatting with the bot\n",
        "!python /content/bot-that-talks-like-you/code_files/talk.py"
      ],
      "execution_count": null,
      "outputs": []
    }
  ]
}
